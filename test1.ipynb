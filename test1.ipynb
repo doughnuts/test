{
 "cells": [
  {
   "cell_type": "code",
   "execution_count": 138,
   "id": "initial_id",
   "metadata": {
    "collapsed": true,
    "ExecuteTime": {
     "end_time": "2025-01-14T10:48:43.122685800Z",
     "start_time": "2025-01-14T10:48:43.092750100Z"
    }
   },
   "outputs": [
    {
     "data": {
      "text/plain": "1"
     },
     "execution_count": 138,
     "metadata": {},
     "output_type": "execute_result"
    }
   ],
   "source": [
    "hash(1)"
   ]
  },
  {
   "cell_type": "code",
   "execution_count": 139,
   "outputs": [
    {
     "data": {
      "text/plain": "1"
     },
     "execution_count": 139,
     "metadata": {},
     "output_type": "execute_result"
    }
   ],
   "source": [
    "hash(1.0)"
   ],
   "metadata": {
    "collapsed": false,
    "ExecuteTime": {
     "end_time": "2025-01-14T10:48:45.504938500Z",
     "start_time": "2025-01-14T10:48:45.489623900Z"
    }
   },
   "id": "eb9efb6f8c59387a"
  },
  {
   "cell_type": "code",
   "execution_count": 4,
   "outputs": [
    {
     "data": {
      "text/plain": "461168601842738689"
     },
     "execution_count": 4,
     "metadata": {},
     "output_type": "execute_result"
    }
   ],
   "source": [
    "hash(1.2)"
   ],
   "metadata": {
    "collapsed": false,
    "ExecuteTime": {
     "end_time": "2025-01-10T10:31:00.753939500Z",
     "start_time": "2025-01-10T10:31:00.669531200Z"
    }
   },
   "id": "3ee50405d6e81690"
  },
  {
   "cell_type": "code",
   "execution_count": 5,
   "outputs": [
    {
     "data": {
      "text/plain": "-6811454452911508895"
     },
     "execution_count": 5,
     "metadata": {},
     "output_type": "execute_result"
    }
   ],
   "source": [
    "hash(\"a\")"
   ],
   "metadata": {
    "collapsed": false,
    "ExecuteTime": {
     "end_time": "2025-01-10T10:31:00.754949800Z",
     "start_time": "2025-01-10T10:31:00.685312400Z"
    }
   },
   "id": "9f0a84721b167c58"
  },
  {
   "cell_type": "code",
   "execution_count": 6,
   "outputs": [],
   "source": [
    "list1= [1, 2, 3]\n",
    "list2= list1\n",
    "list3= list1[:]\n",
    "list1.append(4)"
   ],
   "metadata": {
    "collapsed": false,
    "ExecuteTime": {
     "end_time": "2025-01-10T10:31:00.754949800Z",
     "start_time": "2025-01-10T10:31:00.701502800Z"
    }
   },
   "id": "68116e36723039bf"
  },
  {
   "cell_type": "code",
   "execution_count": 7,
   "outputs": [
    {
     "data": {
      "text/plain": "2005034669312"
     },
     "execution_count": 7,
     "metadata": {},
     "output_type": "execute_result"
    }
   ],
   "source": [
    "id(list1)"
   ],
   "metadata": {
    "collapsed": false,
    "ExecuteTime": {
     "end_time": "2025-01-10T10:31:00.755948Z",
     "start_time": "2025-01-10T10:31:00.715753700Z"
    }
   },
   "id": "b4cce72e54e2e590"
  },
  {
   "cell_type": "code",
   "execution_count": 8,
   "outputs": [
    {
     "data": {
      "text/plain": "2005034669312"
     },
     "execution_count": 8,
     "metadata": {},
     "output_type": "execute_result"
    }
   ],
   "source": [
    "id(list2)"
   ],
   "metadata": {
    "collapsed": false,
    "ExecuteTime": {
     "end_time": "2025-01-10T10:31:00.756946Z",
     "start_time": "2025-01-10T10:31:00.732241Z"
    }
   },
   "id": "85f428a70b7ecfa8"
  },
  {
   "cell_type": "code",
   "execution_count": 9,
   "outputs": [
    {
     "data": {
      "text/plain": "2005034996032"
     },
     "execution_count": 9,
     "metadata": {},
     "output_type": "execute_result"
    }
   ],
   "source": [
    "id(list3)"
   ],
   "metadata": {
    "collapsed": false,
    "ExecuteTime": {
     "end_time": "2025-01-10T10:31:00.784899500Z",
     "start_time": "2025-01-10T10:31:00.747660200Z"
    }
   },
   "id": "11939d086e15f12b"
  },
  {
   "cell_type": "code",
   "execution_count": 10,
   "outputs": [
    {
     "data": {
      "text/plain": "140717034523520"
     },
     "execution_count": 10,
     "metadata": {},
     "output_type": "execute_result"
    }
   ],
   "source": [
    "a=256\n",
    "b=256\n",
    "id(a)\n"
   ],
   "metadata": {
    "collapsed": false,
    "ExecuteTime": {
     "end_time": "2025-01-10T10:31:00.868002300Z",
     "start_time": "2025-01-10T10:31:00.763222300Z"
    }
   },
   "id": "fe175050adc8f54a"
  },
  {
   "cell_type": "code",
   "execution_count": 11,
   "outputs": [
    {
     "data": {
      "text/plain": "140717034523520"
     },
     "execution_count": 11,
     "metadata": {},
     "output_type": "execute_result"
    }
   ],
   "source": [
    "id(b)"
   ],
   "metadata": {
    "collapsed": false,
    "ExecuteTime": {
     "end_time": "2025-01-10T10:31:00.884244300Z",
     "start_time": "2025-01-10T10:31:00.778533200Z"
    }
   },
   "id": "2355d35e28ee4f1a"
  },
  {
   "cell_type": "code",
   "execution_count": 20,
   "outputs": [
    {
     "name": "stdout",
     "output_type": "stream",
     "text": [
      "True\n"
     ]
    }
   ],
   "source": [
    "if Ellipsis != True:\n",
    "    print(\"True\")"
   ],
   "metadata": {
    "collapsed": false,
    "ExecuteTime": {
     "end_time": "2025-01-10T10:51:49.696277600Z",
     "start_time": "2025-01-10T10:51:49.687788Z"
    }
   },
   "id": "125a5be8210b0e97"
  },
  {
   "cell_type": "code",
   "execution_count": 16,
   "outputs": [
    {
     "name": "stdout",
     "output_type": "stream",
     "text": [
      "Ellipsis\n"
     ]
    }
   ],
   "source": [
    "a=...#逻辑值为true\n",
    "print(a)"
   ],
   "metadata": {
    "collapsed": false,
    "ExecuteTime": {
     "end_time": "2025-01-10T10:50:23.111812100Z",
     "start_time": "2025-01-10T10:50:23.101212200Z"
    }
   },
   "id": "a99cecded5528996"
  },
  {
   "cell_type": "code",
   "execution_count": 8,
   "outputs": [
    {
     "name": "stdout",
     "output_type": "stream",
     "text": [
      "1\n",
      "2\n",
      "-4\n",
      "3\n",
      "-0b101\n",
      "0b101\n",
      "0b11\n",
      "7\n"
     ]
    }
   ],
   "source": [
    "print(10 % 3)\n",
    "print(-10 % 3)\n",
    "print(-10//3)\n",
    "print(10//3)\n",
    "print(bin(-5))\n",
    "print(bin(5))\n",
    "print(bin(3))\n",
    "print(5 | 3)\n"
   ],
   "metadata": {
    "collapsed": false,
    "ExecuteTime": {
     "end_time": "2025-01-11T02:57:13.438440Z",
     "start_time": "2025-01-11T02:57:13.421393900Z"
    }
   },
   "id": "21dd25ce0e628397"
  },
  {
   "cell_type": "code",
   "execution_count": 20,
   "outputs": [
    {
     "name": "stdout",
     "output_type": "stream",
     "text": [
      "[[[1 2 3]\n",
      "  [4 5 6]]\n",
      "\n",
      " [[1 2 3]\n",
      "  [4 5 6]]\n",
      "\n",
      " [[1 2 3]\n",
      "  [4 5 6]]]\n"
     ]
    },
    {
     "data": {
      "text/plain": "array([4, 5, 6])"
     },
     "execution_count": 20,
     "metadata": {},
     "output_type": "execute_result"
    }
   ],
   "source": [
    "import numpy as np\n",
    "arr=np.array([[[1,2,3],[4,5,6]],[[1,2,3],[4,5,6]], [[1,2,3],[4,5,6]]])\n",
    "print(arr)\n",
    "arr[0,1,:]"
   ],
   "metadata": {
    "collapsed": false,
    "ExecuteTime": {
     "end_time": "2025-01-11T03:08:21.101523400Z",
     "start_time": "2025-01-11T03:08:21.067186800Z"
    }
   },
   "id": "56e03115b9a68e59"
  },
  {
   "cell_type": "code",
   "execution_count": 149,
   "outputs": [
    {
     "name": "stdout",
     "output_type": "stream",
     "text": [
      "140719402331040 140719402331040\n",
      "{0: 2, 1: 1, 2: 1, 3: 1, 4: 1}\n",
      "--------------------\n",
      "2682726585600\n",
      "140719402166512 2682726585600\n",
      "140719402166512\n"
     ]
    }
   ],
   "source": [
    "d0=dict.fromkeys(range(5),1)\n",
    "print(id(d0[0]),id(d0[1]))\n",
    "d0[0]=2\n",
    "print(d0)\n",
    "\n",
    "\n",
    "\n",
    "\n",
    "\n",
    "print(\"--------------------\")\n",
    "del d0[0]\n",
    "print(id(d0))\n",
    "\n",
    "print(id(d0.get(0)),id(d0))\n",
    "print(id(None))"
   ],
   "metadata": {
    "collapsed": false,
    "ExecuteTime": {
     "end_time": "2025-01-14T11:15:44.197301100Z",
     "start_time": "2025-01-14T11:15:44.176885300Z"
    }
   },
   "id": "436affff151dc96f"
  },
  {
   "cell_type": "code",
   "execution_count": 15,
   "outputs": [
    {
     "name": "stdout",
     "output_type": "stream",
     "text": [
      "{'a': 1, 'b': 2}\n"
     ]
    }
   ],
   "source": [
    "a={\"a\":1,\"b\":2}\n",
    "a[\"a\"]=input() or a[\"a\"]#0的bool值是False，\"\"空字符串的bool值也是False，其他都是True\n",
    "\n",
    "print(a)"
   ],
   "metadata": {
    "collapsed": false,
    "ExecuteTime": {
     "end_time": "2025-01-14T15:05:18.037297100Z",
     "start_time": "2025-01-14T15:05:16.437446Z"
    }
   },
   "id": "fe7d01409d57898f"
  },
  {
   "cell_type": "code",
   "execution_count": 21,
   "outputs": [
    {
     "name": "stdout",
     "output_type": "stream",
     "text": [
      "[None]\n",
      "True\n"
     ]
    }
   ],
   "source": [
    "b=[None]\n",
    "print(b)\n",
    "print(bool(b))"
   ],
   "metadata": {
    "collapsed": false,
    "ExecuteTime": {
     "end_time": "2025-01-14T15:08:16.863734900Z",
     "start_time": "2025-01-14T15:08:16.849991700Z"
    }
   },
   "id": "513e1a8407e4f4c"
  }
 ],
 "metadata": {
  "kernelspec": {
   "display_name": "Python 3",
   "language": "python",
   "name": "python3"
  },
  "language_info": {
   "codemirror_mode": {
    "name": "ipython",
    "version": 2
   },
   "file_extension": ".py",
   "mimetype": "text/x-python",
   "name": "python",
   "nbconvert_exporter": "python",
   "pygments_lexer": "ipython2",
   "version": "2.7.6"
  }
 },
 "nbformat": 4,
 "nbformat_minor": 5
}
